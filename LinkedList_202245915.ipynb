{
  "nbformat": 4,
  "nbformat_minor": 0,
  "metadata": {
    "colab": {
      "provenance": []
    },
    "kernelspec": {
      "name": "python3",
      "display_name": "Python 3"
    },
    "language_info": {
      "name": "python"
    }
  },
  "cells": [
    {
      "cell_type": "code",
      "execution_count": null,
      "metadata": {
        "colab": {
          "base_uri": "https://localhost:8080/"
        },
        "id": "1mRFvLbwfesR",
        "outputId": "83969720-6ab4-4f93-842b-dbfd127d7301"
      },
      "outputs": [
        {
          "output_type": "stream",
          "name": "stdout",
          "text": [
            "Mounted at /content/drive\n"
          ]
        }
      ],
      "source": [
        "from google.colab import drive\n",
        "drive.mount('/content/drive')"
      ]
    },
    {
      "cell_type": "code",
      "source": [
        "import sys\n",
        "sys.path.append('/content/drive/MyDrive/데이터구조및알고리즘')"
      ],
      "metadata": {
        "id": "YF0eB9RlghMU"
      },
      "execution_count": null,
      "outputs": []
    },
    {
      "cell_type": "code",
      "source": [
        "print(sys.path)"
      ],
      "metadata": {
        "colab": {
          "base_uri": "https://localhost:8080/"
        },
        "id": "PvKbkY3cg708",
        "outputId": "acf8c1c3-418a-4fa7-9207-34c84ca3b1f2"
      },
      "execution_count": null,
      "outputs": [
        {
          "output_type": "stream",
          "name": "stdout",
          "text": [
            "['/content', '/env/python', '/usr/lib/python311.zip', '/usr/lib/python3.11', '/usr/lib/python3.11/lib-dynload', '', '/usr/local/lib/python3.11/dist-packages', '/usr/lib/python3/dist-packages', '/usr/local/lib/python3.11/dist-packages/IPython/extensions', '/root/.ipython', '/content/drive/MyDrive/데이터구조및알고리즘']\n"
          ]
        }
      ]
    },
    {
      "cell_type": "code",
      "source": [
        "from Node import DNode"
      ],
      "metadata": {
        "id": "whvKhkMghAbB",
        "colab": {
          "base_uri": "https://localhost:8080/",
          "height": 337
        },
        "outputId": "5720937d-c3c7-4f69-ba43-81852c60a550"
      },
      "execution_count": null,
      "outputs": [
        {
          "output_type": "error",
          "ename": "ModuleNotFoundError",
          "evalue": "No module named 'Node'",
          "traceback": [
            "\u001b[0;31m---------------------------------------------------------------------------\u001b[0m",
            "\u001b[0;31mModuleNotFoundError\u001b[0m                       Traceback (most recent call last)",
            "\u001b[0;32m<ipython-input-4-b3bea3d9e41d>\u001b[0m in \u001b[0;36m<cell line: 0>\u001b[0;34m()\u001b[0m\n\u001b[0;32m----> 1\u001b[0;31m \u001b[0;32mfrom\u001b[0m \u001b[0mNode\u001b[0m \u001b[0;32mimport\u001b[0m \u001b[0mDNode\u001b[0m\u001b[0;34m\u001b[0m\u001b[0;34m\u001b[0m\u001b[0m\n\u001b[0m",
            "\u001b[0;31mModuleNotFoundError\u001b[0m: No module named 'Node'",
            "",
            "\u001b[0;31m---------------------------------------------------------------------------\u001b[0;32m\nNOTE: If your import is failing due to a missing package, you can\nmanually install dependencies using either !pip or !apt.\n\nTo view examples of installing some common dependencies, click the\n\"Open Examples\" button below.\n\u001b[0;31m---------------------------------------------------------------------------\u001b[0m\n"
          ],
          "errorDetails": {
            "actions": [
              {
                "action": "open_url",
                "actionText": "Open Examples",
                "url": "/notebooks/snippets/importing_libraries.ipynb"
              }
            ]
          }
        }
      ]
    },
    {
      "cell_type": "code",
      "source": [
        "class LinkedList:\n",
        "  def __init__(self):\n",
        "    self.head = DNode('head', None, None)\n",
        "    self.trail = DNode('trail', self.head, None)\n",
        "    self.head.setNext(self.trail)\n",
        "    self.numElem = 0\n",
        "\n",
        "  def isEmpty(self):\n",
        "    if self.numElem==0 :\n",
        "      return True\n",
        "    else:\n",
        "      return False\n",
        "\n",
        "  def size(self):\n",
        "    return self.numElem\n",
        "\n",
        "  def First(self):\n",
        "    if self.numElem==0:\n",
        "      print('원소가 없습니다.')\n",
        "    else:\n",
        "      return self.head.getNext()\n",
        "\n",
        "  def Last(self):\n",
        "    if self.numElem==0:\n",
        "      print('원소가 없습니다.')\n",
        "    else:\n",
        "      return self.head.getPrev()\n",
        "\n",
        "  def insertAfter(self, pos, elem):\n",
        "    v = DNode(elem, pos, pos.getNext())\n",
        "    pos.getNext().setPrev(v)\n",
        "    pos.setNext(v)\n",
        "    self.numElem += 1\n",
        "    return v\n",
        "\n",
        "  def insertFirst(self, elem):\n",
        "    v=DNode(elem, self.head, self.head.getNext())\n",
        "    self.head.getNext().setPrev(v)\n",
        "    self.head.setNext(v)\n",
        "    self.numElem += 1\n",
        "    return v\n",
        "\n",
        "  def insertFirst(self, elem):\n",
        "    v=self.insertAfter(self.head, elem)\n",
        "    return v\n",
        "\n",
        "  def remove(self, pos):\n",
        "    elem=pos.getElement()\n",
        "    pos.getPrev().setNext(pos.getNext())\n",
        "    pos.getNext().setPrev(pos.getPrev())\n",
        "    pos.setNext(None)\n",
        "    pos.setPrev(None)\n",
        "\n",
        "    self.numElem -= 1\n",
        "\n",
        "  def printList(self):\n",
        "    cur=self.head\n",
        "    print(\"[\", end='')\n",
        "    while cur != self.trail:\n",
        "      if cur!=self.head:\n",
        "        if cur.getNext() != self.trail:\n",
        "          print(cur.data, ',', end='')\n",
        "        else:\n",
        "          print(cur.data, ']', end='')\n",
        "      cur=cur.getNext()\n",
        "\n",
        "# 아래박스 이외의 범위는 수정하지 말 것\n",
        "########################################\n",
        "\n",
        "#insertBefore\n",
        "def insertBefore(self, pos, elem):\n",
        "  v = DNode(elem, pos.getPrev(), pos)\n",
        "  pos.getPrev().setNext(v)\n",
        "  pos.setPrev(v)\n",
        "  self.numElem += 1\n",
        "  return v\n",
        "\n",
        "#insertLast\n",
        "def insertLast(self, elem):\n",
        "  v=DNode(elem, self.trail.getPrev(), self.trail)\n",
        "  self.trail.getPrev().setNext(v)\n",
        "  self.trail.setPrev(v)\n",
        "  self.numElem += 1\n",
        "  return v\n",
        "\n",
        "########################################\n",
        "if __name__ == '__main__':\n",
        "  ll=LinkedList()\n",
        "  p1 = ll.insertFirst(\"000\")\n",
        "  p2 = ll.insertAfter(p1, '111')\n",
        "  p3 = ll.insertAfter(p2, '222')\n",
        "  p4 = ll.insertLast('333')\n",
        "  p5 = ll.insertBefore(p3, '444')\n",
        "  ll.remove(p2)\n",
        "\n",
        "  ll.printList()\n"
      ],
      "metadata": {
        "id": "VC_2tC9Cy0pe",
        "colab": {
          "base_uri": "https://localhost:8080/",
          "height": 355
        },
        "outputId": "531fdf56-a972-488f-b7de-e76ca4f346e5"
      },
      "execution_count": null,
      "outputs": [
        {
          "output_type": "error",
          "ename": "NameError",
          "evalue": "name 'DNode' is not defined",
          "traceback": [
            "\u001b[0;31m---------------------------------------------------------------------------\u001b[0m",
            "\u001b[0;31mNameError\u001b[0m                                 Traceback (most recent call last)",
            "\u001b[0;32m<ipython-input-5-96390b0a5017>\u001b[0m in \u001b[0;36m<cell line: 0>\u001b[0;34m()\u001b[0m\n\u001b[1;32m     86\u001b[0m \u001b[0;31m########################################\u001b[0m\u001b[0;34m\u001b[0m\u001b[0;34m\u001b[0m\u001b[0m\n\u001b[1;32m     87\u001b[0m \u001b[0;32mif\u001b[0m \u001b[0m__name__\u001b[0m \u001b[0;34m==\u001b[0m \u001b[0;34m'__main__'\u001b[0m\u001b[0;34m:\u001b[0m\u001b[0;34m\u001b[0m\u001b[0;34m\u001b[0m\u001b[0m\n\u001b[0;32m---> 88\u001b[0;31m   \u001b[0mll\u001b[0m\u001b[0;34m=\u001b[0m\u001b[0mLinkedList\u001b[0m\u001b[0;34m(\u001b[0m\u001b[0;34m)\u001b[0m\u001b[0;34m\u001b[0m\u001b[0;34m\u001b[0m\u001b[0m\n\u001b[0m\u001b[1;32m     89\u001b[0m   \u001b[0mp1\u001b[0m \u001b[0;34m=\u001b[0m \u001b[0mll\u001b[0m\u001b[0;34m.\u001b[0m\u001b[0minsertFirst\u001b[0m\u001b[0;34m(\u001b[0m\u001b[0;34m\"000\"\u001b[0m\u001b[0;34m)\u001b[0m\u001b[0;34m\u001b[0m\u001b[0;34m\u001b[0m\u001b[0m\n\u001b[1;32m     90\u001b[0m   \u001b[0mp2\u001b[0m \u001b[0;34m=\u001b[0m \u001b[0mll\u001b[0m\u001b[0;34m.\u001b[0m\u001b[0minsertAfter\u001b[0m\u001b[0;34m(\u001b[0m\u001b[0mp1\u001b[0m\u001b[0;34m,\u001b[0m \u001b[0;34m'111'\u001b[0m\u001b[0;34m)\u001b[0m\u001b[0;34m\u001b[0m\u001b[0;34m\u001b[0m\u001b[0m\n",
            "\u001b[0;32m<ipython-input-5-96390b0a5017>\u001b[0m in \u001b[0;36m__init__\u001b[0;34m(self)\u001b[0m\n\u001b[1;32m      1\u001b[0m \u001b[0;32mclass\u001b[0m \u001b[0mLinkedList\u001b[0m\u001b[0;34m:\u001b[0m\u001b[0;34m\u001b[0m\u001b[0;34m\u001b[0m\u001b[0m\n\u001b[1;32m      2\u001b[0m   \u001b[0;32mdef\u001b[0m \u001b[0m__init__\u001b[0m\u001b[0;34m(\u001b[0m\u001b[0mself\u001b[0m\u001b[0;34m)\u001b[0m\u001b[0;34m:\u001b[0m\u001b[0;34m\u001b[0m\u001b[0;34m\u001b[0m\u001b[0m\n\u001b[0;32m----> 3\u001b[0;31m     \u001b[0mself\u001b[0m\u001b[0;34m.\u001b[0m\u001b[0mhead\u001b[0m \u001b[0;34m=\u001b[0m \u001b[0mDNode\u001b[0m\u001b[0;34m(\u001b[0m\u001b[0;34m'head'\u001b[0m\u001b[0;34m,\u001b[0m \u001b[0;32mNone\u001b[0m\u001b[0;34m,\u001b[0m \u001b[0;32mNone\u001b[0m\u001b[0;34m)\u001b[0m\u001b[0;34m\u001b[0m\u001b[0;34m\u001b[0m\u001b[0m\n\u001b[0m\u001b[1;32m      4\u001b[0m     \u001b[0mself\u001b[0m\u001b[0;34m.\u001b[0m\u001b[0mtrail\u001b[0m \u001b[0;34m=\u001b[0m \u001b[0mDNode\u001b[0m\u001b[0;34m(\u001b[0m\u001b[0;34m'trail'\u001b[0m\u001b[0;34m,\u001b[0m \u001b[0mself\u001b[0m\u001b[0;34m.\u001b[0m\u001b[0mhead\u001b[0m\u001b[0;34m,\u001b[0m \u001b[0;32mNone\u001b[0m\u001b[0;34m)\u001b[0m\u001b[0;34m\u001b[0m\u001b[0;34m\u001b[0m\u001b[0m\n\u001b[1;32m      5\u001b[0m     \u001b[0mself\u001b[0m\u001b[0;34m.\u001b[0m\u001b[0mhead\u001b[0m\u001b[0;34m.\u001b[0m\u001b[0msetNext\u001b[0m\u001b[0;34m(\u001b[0m\u001b[0mself\u001b[0m\u001b[0;34m.\u001b[0m\u001b[0mtrail\u001b[0m\u001b[0;34m)\u001b[0m\u001b[0;34m\u001b[0m\u001b[0;34m\u001b[0m\u001b[0m\n",
            "\u001b[0;31mNameError\u001b[0m: name 'DNode' is not defined"
          ]
        }
      ]
    }
  ]
}