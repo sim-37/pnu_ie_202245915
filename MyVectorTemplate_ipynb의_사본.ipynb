{
  "nbformat": 4,
  "nbformat_minor": 0,
  "metadata": {
    "colab": {
      "provenance": []
    },
    "kernelspec": {
      "name": "python3",
      "display_name": "Python 3"
    },
    "language_info": {
      "name": "python"
    }
  },
  "cells": [
    {
      "cell_type": "code",
      "source": [],
      "metadata": {
        "id": "1t4GORx0x0zj"
      },
      "execution_count": null,
      "outputs": []
    },
    {
      "cell_type": "markdown",
      "source": [
        "#Class\n",
        "\"Classes provide a means of bundling data and functionality together.\""
      ],
      "metadata": {
        "id": "bgpnod0FF3Td"
      }
    },
    {
      "cell_type": "markdown",
      "source": [],
      "metadata": {
        "id": "FP7VpSgaB_km"
      }
    },
    {
      "cell_type": "code",
      "source": [
        "class Myclass:\n",
        "  name='데이터구조 및 알고리즘'\n",
        "\n",
        "  def f():\n",
        "    return'데구알'"
      ],
      "metadata": {
        "id": "qtw6UQyR2TO9"
      },
      "execution_count": null,
      "outputs": []
    },
    {
      "cell_type": "code",
      "source": [
        "m=Myclass()\n",
        "print(Myclass.name)\n",
        "print(Myclass.f())"
      ],
      "metadata": {
        "colab": {
          "base_uri": "https://localhost:8080/"
        },
        "id": "sBQWqayv6bdE",
        "outputId": "fe3fe389-3814-447f-eddc-04ade2f09858"
      },
      "execution_count": null,
      "outputs": [
        {
          "output_type": "stream",
          "name": "stdout",
          "text": [
            "데이터구조 및 알고리즘\n",
            "데구알\n"
          ]
        }
      ]
    },
    {
      "cell_type": "markdown",
      "source": [
        "1. 간단한 클래스 만들어보기"
      ],
      "metadata": {
        "id": "GpcWFF7JBzWK"
      }
    },
    {
      "cell_type": "code",
      "source": [],
      "metadata": {
        "id": "V5V9EeNt2Tv1"
      },
      "execution_count": null,
      "outputs": []
    },
    {
      "cell_type": "markdown",
      "source": [
        "2. Student Class만들어 테스트하기"
      ],
      "metadata": {
        "id": "-SoSnq9tB8xi"
      }
    },
    {
      "cell_type": "code",
      "source": [
        "class Student:\n",
        "  def __init__(self, d): #생성자함수를 만들면 자기객체\n",
        "    self.name=d\n",
        "    self.age=0\n",
        "\n",
        "  def getName(self): #self는 자기자신,\n",
        "    return self.name\n",
        "\n",
        "  def setName(self, new_Name):\n",
        "    self.name=new_Name\n",
        "\n",
        "  def getAge(self):\n",
        "    return self.age\n",
        "\n",
        "  def setAge(self, new_Age):\n",
        "    self.age=new_Age"
      ],
      "metadata": {
        "id": "O3nlQstW7cjv"
      },
      "execution_count": null,
      "outputs": []
    },
    {
      "cell_type": "code",
      "source": [
        "st=Student(\"배혜림\")\n",
        "st.setName(\"배태웅\") #배태웅을 추가하면 이름바뀜\n",
        "print(st.getName()) #getage, setage\n",
        "\n"
      ],
      "metadata": {
        "colab": {
          "base_uri": "https://localhost:8080/"
        },
        "id": "1qINm5jF775N",
        "outputId": "8c7cac36-904b-42c9-82a0-c8a624512753"
      },
      "execution_count": null,
      "outputs": [
        {
          "output_type": "stream",
          "name": "stdout",
          "text": [
            "배태웅\n",
            "None\n"
          ]
        }
      ]
    },
    {
      "cell_type": "code",
      "source": [
        "st=Student(\"배혜림\")\n",
        "st.setAge(21)\n",
        "print(st.getName())\n",
        "print(st.getAge())"
      ],
      "metadata": {
        "colab": {
          "base_uri": "https://localhost:8080/"
        },
        "id": "ULSIA8kVzweA",
        "outputId": "e216deaf-fcf6-4e1e-a49a-ccfbff7265ab"
      },
      "execution_count": null,
      "outputs": [
        {
          "output_type": "stream",
          "name": "stdout",
          "text": [
            "배혜림\n",
            "21\n"
          ]
        }
      ]
    },
    {
      "cell_type": "code",
      "source": [
        "class MyVector:\n",
        "  def __init__(self, d): #initialize(초기화, 입력받는 것)\n",
        "    if isinstance(d, int): #d가 정수형이면 [0]*d를 함. 사이즈는 0\n",
        "      self.coords=[0]*d\n",
        "      self.size=0\n",
        "\n",
        "    else: #정수형이 아니면\n",
        "      try:\n",
        "        self.coords=[val for val in d]\n",
        "      except TypeError:\n",
        "        raise TypeError('invalide parameter type')\n",
        "\n",
        "\n",
        "  def elementAt(self, i):\n",
        "    if self.size!=0 and i>=0 and i<self.size: #사이즈는 몇개가 들어가있음 사이즈가 2면 인덱스는 1까지니까\n",
        "      return self.coords[i]\n",
        "    else:\n",
        "      print(\"요청한 범위가 올바르지 않습니다.\")\n",
        "\n",
        "\n",
        "  def insertAt(self, i, val): #인덱스 i 위치에 val값을 넣어라.\n",
        "    if self.size==len(self.coords)-1:\n",
        "      print(\"꽉 찼어요\", self.size)\n",
        "      newList=[0]*(len(self.coords)*2)\n",
        "      for j in range(0, len(self.coords)):\n",
        "        newList[j]=self.coords[j]\n",
        "      self.coords=newList\n",
        "    if i>=0 and i<self.size:\n",
        "      for k in range(self.size, i, -1):\n",
        "        self.coords[k]=self.coords[k-1] #k번째가 k-1이 되는 i까지 가면서 (1씩 감소하면서)\n",
        "      self.coords[i]=val\n",
        "      self.size=self.size+1\n",
        "\n",
        "\n",
        "  def insertLast(self, val):\n",
        "    if self.size==len(self.coords)-1:\n",
        "      print(\"꽉 찼어요\", self.size)\n",
        "      newList=[0]*(len(self.coords)*2)\n",
        "      for j in range(0, len(self.coords)):\n",
        "        newList[j]=self.coords[j]\n",
        "      self.coords=newList\n",
        "    self.coords[self.size]=val\n",
        "    self.size=self.size+1\n",
        "\n",
        "\n",
        "  def removeAt(self, i):\n",
        "      if i<0 and i>=self.size:\n",
        "        print(\"잘못된 범위를 요청하셨습니다.\")\n",
        "      else:\n",
        "        ret=self.coords[i]\n",
        "        for k in range(i, self.size-1):\n",
        "          self.coords[k]=self.coords[k+1]\n",
        "        self.size=self.size-1\n",
        "        return ret\n",
        "\n",
        "\n",
        "  def replaceAt(self, i, val):\n",
        "    if i<0 and i>=self.size:\n",
        "        print(\"잘못된 범위를 요청하셨습니다.\")\n",
        "    else:\n",
        "      ret=self.coords[i] #지우기 이전 값 저장\n",
        "      self.coords[i]=val\n",
        "      return ret\n",
        "\n",
        "\n",
        "  def printVector(self):\n",
        "    print('[',end='')\n",
        "    for i in range(0, self.size):\n",
        "      if i==self.size-1:\n",
        "        print(self.coords[i],']')\n",
        "      else:\n",
        "        print(self.coords[i], ',', end='')\n",
        "\n",
        "\n",
        "if __name__=='__main__': #인터프리터에 의해 실행이 되는 경우, 해당 구문이 사용된 파이썬 파일을 직접 실행했을 때만 실행시킨다.\n",
        "  mv=MyVector(2)\n",
        "\n",
        "  mv.insertAt(0,0)\n",
        "  mv.insertAt(1,1)\n",
        "  mv.insertAt(2,2)\n",
        "  mv.insertLast(10)\n",
        "  mv.removeAt(1)\n",
        "  mv.replaceAt(0,50)\n",
        "  mv.printVector()\n",
        "\n",
        "  #print(mv.coords)\n",
        "  #for i in range(0,100):\n",
        "  #  mv.insertAt(i,i)\n",
        "  #print(mv.removeAt(50))\n",
        "  #print(mv.replaceAt(0,50)) #인덱스 0에 '50'이라는 값을 넣음\n",
        "\n",
        "  #mv.printVector()\n",
        "\n",
        "\n"
      ],
      "metadata": {
        "colab": {
          "base_uri": "https://localhost:8080/"
        },
        "id": "zl2gUrLvHU2K",
        "outputId": "9181eaa5-079f-4a08-889d-6134a18d79e5"
      },
      "execution_count": null,
      "outputs": [
        {
          "output_type": "stream",
          "name": "stdout",
          "text": [
            "["
          ]
        }
      ]
    },
    {
      "cell_type": "code",
      "source": [
        "mv=MyVector(10)\n",
        "mv.insertLast(10)\n",
        "mv.insertLast(20)\n",
        "mv.printVector()"
      ],
      "metadata": {
        "colab": {
          "base_uri": "https://localhost:8080/"
        },
        "id": "x1U62Nll3QKC",
        "outputId": "c97e4cd2-5b75-435c-fbd2-36ebd6e830ee"
      },
      "execution_count": null,
      "outputs": [
        {
          "output_type": "stream",
          "name": "stdout",
          "text": [
            "[10 ,20 ]\n"
          ]
        }
      ]
    },
    {
      "cell_type": "code",
      "source": [
        "#과제\n",
        "#스튜던트 네임이랑 정수 9개 9명의 이\n",
        "#스튜던트 클래스를 객체로 만듬 9개 -> 벡터에다가 집어넣음\n",
        "#그 벡터를 이용해서 여기서 성적이 가장 높은 사람을 구해야함\n",
        "#피피티 그대로 넣지말고 이름과 성적을 조작\n",
        "#마이벡터 코드는 수업에서 짠 마이벡터 코드를 사용, 지피티 ㄴㄴ\n"
      ],
      "metadata": {
        "id": "ycdMukyYHgl2"
      },
      "execution_count": null,
      "outputs": []
    }
  ]
}