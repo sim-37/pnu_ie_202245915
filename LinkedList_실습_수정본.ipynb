{
 "cells": [
  {
   "cell_type": "code",
   "execution_count": 2,
   "metadata": {
    "colab": {
     "base_uri": "https://localhost:8080/"
    },
    "id": "1mRFvLbwfesR",
    "outputId": "1986917b-dac9-41f0-e902-bc2a59b46bb4"
   },
   "outputs": [
    {
     "name": "stdout",
     "output_type": "stream",
     "text": [
      "Mounted at /content/drive\n"
     ]
    }
   ],
   "source": [
    "from google.colab import drive\n",
    "drive.mount('/content/drive')"
   ]
  },
  {
   "cell_type": "code",
   "execution_count": 3,
   "metadata": {
    "id": "YF0eB9RlghMU"
   },
   "outputs": [],
   "source": [
    "import sys\n",
    "sys.path.append('/content/drive/MyDrive/데이터구조및알고리즘')"
   ]
  },
  {
   "cell_type": "code",
   "execution_count": 4,
   "metadata": {
    "colab": {
     "base_uri": "https://localhost:8080/"
    },
    "id": "PvKbkY3cg708",
    "outputId": "2eda73e3-73d2-4abb-d95e-574a0f68ee0f"
   },
   "outputs": [
    {
     "name": "stdout",
     "output_type": "stream",
     "text": [
      "['/content', '/env/python', '/usr/lib/python311.zip', '/usr/lib/python3.11', '/usr/lib/python3.11/lib-dynload', '', '/usr/local/lib/python3.11/dist-packages', '/usr/lib/python3/dist-packages', '/usr/local/lib/python3.11/dist-packages/IPython/extensions', '/root/.ipython', '/content/drive/MyDrive/데이터구조및알고리즘']\n"
     ]
    }
   ],
   "source": [
    "print(sys.path)"
   ]
  },
  {
   "cell_type": "code",
   "execution_count": 5,
   "metadata": {
    "id": "whvKhkMghAbB"
   },
   "outputs": [],
   "source": [
    "from Node import DNode"
   ]
  },
  {
   "cell_type": "code",
   "execution_count": null,
   "metadata": {
    "id": "VC_2tC9Cy0pe"
   },
   "outputs": [],
   "source": [
    "class LinkedList:\n",
    "  def __init__(self):\n",
    "    self.head = DNode('head', None, None)\n",
    "    self.trail = DNode('trail', self.head, None)\n",
    "    self.head.setNext(self.trail)\n",
    "    self.numElem = 0\n",
    "\n",
    "  def isEmpty(self):\n",
    "    if self.numElem==0 :\n",
    "      return True\n",
    "    else:\n",
    "      return False\n",
    "\n",
    "  def size(self):\n",
    "    return self.numElem\n",
    "\n",
    "  def First(self):\n",
    "    if self.numElem==0:\n",
    "      print('원소가 없습니다.')\n",
    "    else:\n",
    "      return self.head.getNext()\n",
    "\n",
    "  def Last(self):\n",
    "    if self.numElem==0:\n",
    "      print('원소가 없습니다.')\n",
    "    else:\n",
    "      return self.head.getPrev()\n",
    "\n",
    "  def insertAfter(self, pos, elem):\n",
    "    v = DNode(elem, pos, pos.getNext())\n",
    "    pos.getNext().setPrev(v)\n",
    "    pos.setNext(v)\n",
    "    self.numElem += 1\n",
    "    return v\n",
    "\n",
    "  def insertFirst(self, elem):\n",
    "    v=DNode(elem, self.head, self.head.getNext())\n",
    "    self.head.getNext().setPrev(v)\n",
    "    self.head.setNext(v)\n",
    "    self.numElem += 1\n",
    "    return v\n",
    "\n",
    "  def insertFirst(self, elem):\n",
    "    v=self.insertAfter(self.head, elem)\n",
    "    return v\n",
    "\n",
    "  def remove(self, pos):\n",
    "    elem=pos.getElement()\n",
    "    pos.getPrev().setNext(pos.getNext())\n",
    "    pos.getNext().setPrev(pos.getPrev())\n",
    "    pos.setNext(None)\n",
    "    pos.setPrev(None)\n",
    "\n",
    "    self.numElem -= 1\n",
    "\n",
    "  def printList(self):\n",
    "    cur=self.head\n",
    "    print(\"[\", end='')\n",
    "    while cur != self.trail:\n",
    "      if cur!=self.head:\n",
    "        if cur.getNext() != self.trail:\n",
    "          print(cur.data, ',', end='')\n",
    "        else:\n",
    "          print(cur.data, ']', end='')\n",
    "      cur=cur.getNext()\n",
    "\n",
    "# 아래박스 이외의 범위는 수정하지 말 것\n",
    "########################################\n",
    "#insertBefore\n",
    "  def insertBefore(self, pos, elem):\n",
    "    v = DNode(elem, pos.getPrev(), pos)\n",
    "    pos.getPrev().setNext(v)\n",
    "    pos.setPrev(v)\n",
    "    self.numElem += 1\n",
    "    return v\n",
    "\n",
    "#insertLast\n",
    "  def insertLast(self, elem):\n",
    "    v = DNode(elem, self.trail.getPrev(), self.trail)\n",
    "    self.trail.getPrev().setNext(v)\n",
    "    self.trail.setPrev(v)\n",
    "    self.numElem += 1\n",
    "    return v\n",
    "########################################\n",
    "if __name__ == '__main__':\n",
    "  ll=LinkedList()\n",
    "  p1 = ll.insertFirst(\"000\")\n",
    "  p2 = ll.insertAfter(p1, '111')\n",
    "  p3 = ll.insertAfter(p2, '222')\n",
    "  p4 = ll.insertLast('333')\n",
    "  p5 = ll.insertBefore(p3, '444')\n",
    "  ll.remove(p2)\n",
    "\n",
    "  ll.printList()\n"
   ]
  }
 ],
 "metadata": {
  "colab": {
   "provenance": []
  },
  "kernelspec": {
   "display_name": "Python 3",
   "name": "python3"
  },
  "language_info": {
   "name": "python"
  }
 },
 "nbformat": 4,
 "nbformat_minor": 0
}
