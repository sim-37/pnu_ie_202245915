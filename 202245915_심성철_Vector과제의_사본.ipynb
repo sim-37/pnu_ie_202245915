{
  "nbformat": 4,
  "nbformat_minor": 0,
  "metadata": {
    "colab": {
      "provenance": []
    },
    "kernelspec": {
      "name": "python3",
      "display_name": "Python 3"
    },
    "language_info": {
      "name": "python"
    }
  },
  "cells": [
    {
      "cell_type": "code",
      "execution_count": null,
      "metadata": {
        "colab": {
          "base_uri": "https://localhost:8080/"
        },
        "id": "04Rvy-_bxseJ",
        "outputId": "bfc40ba2-ea1f-4ed2-ae74-8d2d72491c49"
      },
      "outputs": [
        {
          "output_type": "stream",
          "name": "stdout",
          "text": [
            "학생 수를 입력하세요:9\n",
            "이름을 입력하세요:심성철\n",
            "성적을 입력하세요:100\n",
            "이름을 입력하세요:이상준\n",
            "성적을 입력하세요:10\n",
            "이름을 입력하세요:박주현\n",
            "성적을 입력하세요:99\n",
            "이름을 입력하세요:배수인\n",
            "성적을 입력하세요:98\n",
            "이름을 입력하세요:홍지훈\n",
            "성적을 입력하세요:70\n",
            "이름을 입력하세요:김건태\n",
            "성적을 입력하세요:11\n",
            "이름을 입력하세요:김남윤\n",
            "성적을 입력하세요:12\n",
            "이름을 입력하세요:신동윤\n",
            "성적을 입력하세요:20\n",
            "이름을 입력하세요:김종민\n",
            "성적을 입력하세요:21\n",
            "입력된 학생 목록\n",
            "[심성철 의 성적은 100, 이상준 의 성적은 10, 박주현 의 성적은 99, 배수인 의 성적은 98, 홍지훈 의 성적은 70, 김건태 의 성적은 11, 김남윤 의 성적은 12, 신동윤 의 성적은 20, 김종민 의 성적은 21]\n",
            "가장 성적이 높은 학생: 심성철 의 성적은 100\n"
          ]
        }
      ],
      "source": [
        "class Student:\n",
        "  def __init__(self, name, grade):\n",
        "    self.name = name\n",
        "    self.grade = grade\n",
        "\n",
        "  def __str__(self):\n",
        "      return f'{self.name} 의 성적은 {self.grade}'\n",
        "\n",
        "class MyVector:\n",
        "  def __init__(self, d):\n",
        "    if isinstance(d, int):\n",
        "      self.coords = [0]*d\n",
        "      self.size = 0\n",
        "    else:\n",
        "      try:\n",
        "        self.coords = [val for val in d]\n",
        "        self.size = len(self.coords)\n",
        "      except TypeError:\n",
        "        raise TypeError('인스턴스 생성에 실패했습니다.')\n",
        "\n",
        "  def elementAt(self, i):\n",
        "    if self.size != 0 and 0 <= i < self.size:\n",
        "      return self.coords[i]\n",
        "    else:\n",
        "      print(\"요청한 범위가 올바르지 않습니다\")\n",
        "\n",
        "  def insertAt(self, i, val):\n",
        "    if self.size >= len(self.coords):\n",
        "      newList = [0]*(len(self.coords)*2)\n",
        "      for j in range(len(self.coords)):\n",
        "        newList[j] = self.coords[j]\n",
        "      self.coords = newList\n",
        "    if 0 <= i <= self.size:\n",
        "      for k in range(self.size, i, -1):\n",
        "        self.coords[k] = self.coords[k-1]\n",
        "      self.coords[i] = val\n",
        "      self.size += 1\n",
        "    else:\n",
        "      print(\"잘못된 인덱스입니다\")\n",
        "\n",
        "  def insertLast(self, val):\n",
        "    if self.size >= len(self.coords):\n",
        "      newList = [0]*(len(self.coords)*2)\n",
        "      for j in range(len(self.coords)):\n",
        "        newList[j] = self.coords[j]\n",
        "      self.coords = newList\n",
        "    self.coords[self.size] = val\n",
        "    self.size += 1\n",
        "\n",
        "  def printVector(self):\n",
        "      print('[', end='')\n",
        "      for i in range(self.size):\n",
        "        if i == self.size-1:\n",
        "          print(self.coords[i], end='')\n",
        "        else:\n",
        "          print(self.coords[i], end=', ')\n",
        "      print(']')\n",
        "\n",
        "  def findTOPStudent(self):\n",
        "      if self.size ==0:\n",
        "        return None\n",
        "\n",
        "      TOP = self.coords[0]\n",
        "      for i in range(1, self.size):\n",
        "        if self.coords[i].grade > TOP.grade:\n",
        "           TOP = self.coords[i]\n",
        "      return TOP\n",
        "\n",
        "\n",
        "if __name__ == '__main__':\n",
        "  mv = MyVector(2)\n",
        "\n",
        "  n = int(input(\"학생 수를 입력하세요:\"))\n",
        "  for i in range(n):\n",
        "    name = input(\"이름을 입력하세요:\")\n",
        "    grade = int(input(\"성적을 입력하세요:\"))\n",
        "    mv.insertLast(Student(name, grade))\n",
        "\n",
        "  print(\"입력된 학생 목록\")\n",
        "  mv.printVector()\n",
        "\n",
        "  TOP = mv.findTOPStudent()\n",
        "\n",
        "  if TOP:\n",
        "          print(f\"가장 성적이 높은 학생: {TOP}\")\n",
        "  else:\n",
        "          print(\"학생이 없습니다.\")"
      ]
    },
    {
      "cell_type": "code",
      "source": [],
      "metadata": {
        "id": "hvMiKKo60_Qy"
      },
      "execution_count": null,
      "outputs": []
    }
  ]
}